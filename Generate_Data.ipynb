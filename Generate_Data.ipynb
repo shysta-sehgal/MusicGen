{
  "nbformat": 4,
  "nbformat_minor": 0,
  "metadata": {
    "colab": {
      "provenance": [],
      "gpuType": "T4"
    },
    "kernelspec": {
      "name": "python3",
      "display_name": "Python 3"
    },
    "language_info": {
      "name": "python"
    },
    "accelerator": "GPU"
  },
  "cells": [
    {
      "cell_type": "code",
      "execution_count": null,
      "metadata": {
        "id": "aKr4_B1r-JCc"
      },
      "outputs": [],
      "source": [
        "!sudo apt install -y fluidsynth\n",
        "!pip install --upgrade pyfluidsynth\n",
        "!pip install pretty_midi\n",
        "!pip install midi2audio\n",
        "!pip install pydub"
      ]
    },
    {
      "cell_type": "code",
      "source": [
        "import tensorflow as tf\n",
        "import pathlib\n",
        "import glob\n",
        "import fluidsynth\n",
        "import pretty_midi\n",
        "\n",
        "from IPython.display import display, Audio\n",
        "from midi2audio import FluidSynth\n",
        "from pydub import AudioSegment\n",
        "\n",
        "_SAMPLING_RATE = 16000"
      ],
      "metadata": {
        "id": "d4lZAT8i-XGW"
      },
      "execution_count": null,
      "outputs": []
    },
    {
      "cell_type": "code",
      "source": [
        "# ALTENRATIVE DATASET Lakh MIDI data layout\n",
        "data_matched_dir = pathlib.Path('data/LakhMIDI')\n",
        "if not data_matched_dir.exists():\n",
        "  tf.keras.utils.get_file(\n",
        "      'lmd_matched.tar.gz',\n",
        "      origin='http://hog.ee.columbia.edu/craffel/lmd/lmd_matched.tar.gz',\n",
        "      extract=True,\n",
        "      cache_dir='.', cache_subdir='data',\n",
        "  )\n",
        "\n",
        "data_allgined_dir = pathlib.Path('data/LakhMIDI')\n",
        "if not data_allgined_dir.exists():\n",
        "  tf.keras.utils.get_file(\n",
        "      'lmd_aligned.tar.gz',\n",
        "      origin='http://hog.ee.columbia.edu/craffel/lmd/lmd_aligned.tar.gz',\n",
        "      extract=True,\n",
        "      cache_dir='.', cache_subdir='data',\n",
        "  )\n",
        "\n",
        "data_matchscores_dir = pathlib.Path('data/LakhMIDI')\n",
        "if not data_allgined_dir.exists():\n",
        "  tf.keras.utils.get_file(\n",
        "      'match_scores.json',\n",
        "      origin='http://hog.ee.columbia.edu/craffel/lmd/match_scores.json',\n",
        "      extract=True,\n",
        "      cache_dir='.', cache_subdir='data',\n",
        "  )"
      ],
      "metadata": {
        "id": "SgV8Czja-bfW"
      },
      "execution_count": null,
      "outputs": []
    },
    {
      "cell_type": "code",
      "source": [
        "# ALTENRATIVE DATASET Lakh MIDI\n",
        "import json\n",
        "import os\n",
        "\n",
        "# Local path constants\n",
        "DATA_PATH = \"data\"\n",
        "RESULTS_PATH = 'data'\n",
        "# Path to the file match_scores.json distributed with the LMD\n",
        "score_file = 'data/match_scores.json'\n",
        "\n",
        "# Utility functions for retrieving paths\n",
        "def msd_id_to_dirs(msd_id):\n",
        "    \"\"\"Given an MSD ID, generate the path prefix.\n",
        "    E.g. TRABCD12345678 -> A/B/C/TRABCD12345678\"\"\"\n",
        "    return os.path.join(msd_id[2], msd_id[3], msd_id[4], msd_id)\n",
        "\n",
        "def msd_id_to_mp3(msd_id):\n",
        "    \"\"\"Given an MSD ID, return the path to the corresponding mp3\"\"\"\n",
        "    return os.path.join(DATA_PATH, 'msd', 'mp3',\n",
        "                        msd_id_to_dirs(msd_id) + '.mp3')\n",
        "\n",
        "def msd_id_to_h5(h5):\n",
        "    \"\"\"Given an MSD ID, return the path to the corresponding h5\"\"\"\n",
        "    return os.path.join(RESULTS_PATH, 'lmd_matched_h5',\n",
        "                        msd_id_to_dirs(msd_id) + '.h5')\n",
        "\n",
        "def get_midi_path(msd_id, midi_md5, kind):\n",
        "    \"\"\"Given an MSD ID and MIDI MD5, return path to a MIDI file.\n",
        "    kind should be one of 'matched' or 'aligned'. \"\"\"\n",
        "    return os.path.join('data', 'lmd_{}'.format(kind), # line might be incorrect, change later after some testing\n",
        "                        msd_id_to_dirs(msd_id), midi_md5 + '.mid')\n",
        "\n",
        "# Load the match scores to find all aligned MIDI files\n",
        "def load_aligned_midi_paths(score_file, kind='aligned'):\n",
        "    with open(score_file, 'r') as file:\n",
        "        scores = json.load(file)\n",
        "\n",
        "    midi_paths = []\n",
        "    for msd_id, matches in scores.items():\n",
        "        for midi_md5 in matches:\n",
        "            midi_path = get_midi_path(msd_id, midi_md5, kind)\n",
        "            midi_paths.append(midi_path)\n",
        "\n",
        "    return midi_paths"
      ],
      "metadata": {
        "id": "VRjvnpc1-g50"
      },
      "execution_count": null,
      "outputs": []
    },
    {
      "cell_type": "code",
      "source": [
        "aligned_midi_files = load_aligned_midi_paths(score_file, 'aligned')\n",
        "print('Number of files:', len(aligned_midi_files))"
      ],
      "metadata": {
        "id": "E1Oc_fql-iOM"
      },
      "execution_count": null,
      "outputs": []
    },
    {
      "cell_type": "code",
      "source": [
        "import random\n",
        "import IPython.display as ipd\n",
        "import copy\n",
        "\n",
        "original_dir = pathlib.Path('augmented/original')\n",
        "pitch_dir = pathlib.Path('augmented/pitch')\n",
        "vol_dir = pathlib.Path('augmented/volume')\n",
        "tempo_dir = pathlib.Path('augmented/tempo')\n",
        "original_dir.mkdir(parents=True, exist_ok=True)\n",
        "pitch_dir.mkdir(parents=True, exist_ok=True)\n",
        "vol_dir.mkdir(parents=True, exist_ok=True)\n",
        "tempo_dir.mkdir(parents=True, exist_ok=True)\n",
        "\n",
        "def save_as_wav(midi_file, file_name):\n",
        "  wav_file_path = original_dir / f\"{file_name}.wav\"\n",
        "  FluidSynth().midi_to_audio(midi_file, wav_file_path)\n",
        "  return wav_file_path\n",
        "\n",
        "def play_midi(pm: pretty_midi.PrettyMIDI, seconds=5):\n",
        "  waveform = pm.fluidsynth(fs=_SAMPLING_RATE)\n",
        "  # Take a sample of the generated waveform to mitigate kernel resets\n",
        "  waveform_short = waveform[:seconds*_SAMPLING_RATE]\n",
        "  return Audio(waveform_short, rate=_SAMPLING_RATE)\n",
        "\n",
        "def clip_length(file, seconds=5):\n",
        "  audio = AudioSegment.from_wav(file)\n",
        "  if len(audio) > seconds * 1000:\n",
        "    audio = audio[:seconds * 1000]\n",
        "    audio.export(file, format='wav')\n",
        "\n",
        "def augment_pitch(pm, augment_dir, file_name, pitch_shift_range=(-6, 6)):\n",
        "    # Apply pitch transposition\n",
        "    pitch_shift = random.randint(*pitch_shift_range)\n",
        "    print(f\"Applying pitch shift of {pitch_shift} semitones.\")\n",
        "    for instrument in pm.instruments:\n",
        "        for note in instrument.notes:\n",
        "            note.pitch = max(0, min(127, note.pitch + pitch_shift))  # Ensure pitch is within MIDI range\n",
        "\n",
        "    augmented_file_path = pitch_dir / f\"{file_name}_pitch_{pitch_shift}.mid\"\n",
        "\n",
        "    pm.write(str(augmented_file_path))\n",
        "    wav_file_path = str(augment_dir / f\"{file_name}_pitch_{pitch_shift}.wav\")\n",
        "    FluidSynth().midi_to_audio(augmented_file_path, wav_file_path)\n",
        "    clip_length(wav_file_path)\n",
        "\n",
        "    return augmented_file_path, wav_file_path, pitch_shift\n",
        "\n",
        "def augment_vol(pm, augment_dir, file_name, volume_augment_range=(-30, 30)):\n",
        "  # Apply pitch transposition\n",
        "  vol_shift = random.randint(*volume_augment_range)\n",
        "  print(f\"Applying volume shift of {vol_shift} velocity.\")\n",
        "  for instrument in pm.instruments:\n",
        "      for note in instrument.notes:\n",
        "          note.velocity = max(1, min(127, note.velocity + vol_shift))\n",
        "\n",
        "  augmented_file_path = vol_dir / f\"{file_name}_vol_{vol_shift}.mid\"\n",
        "\n",
        "  pm.write(str(augmented_file_path))\n",
        "  wav_file_path = str(augment_dir / f\"{file_name}_vol_{vol_shift}.wav\")\n",
        "  FluidSynth().midi_to_audio(augmented_file_path, wav_file_path)\n",
        "  clip_length(wav_file_path)\n",
        "\n",
        "  return augmented_file_path, wav_file_path, vol_shift\n",
        "\n",
        "\n",
        "def augment_tempo(pm, augment_dir, file_name, tempo_augment_choices=(0.25, 0.5, 0.75, 1.25, 1.5, 1.75)):\n",
        "  # Apply tempo transformation\n",
        "  tempo_shift = random.choice(tempo_augment_choices)\n",
        "  print(f\"Applying tempo shift of {tempo_shift} tempo.\")\n",
        "  for intrument in pm.instruments:\n",
        "    for note in intrument.notes:\n",
        "      note.start *= tempo_shift\n",
        "      note.end *= tempo_shift\n",
        "\n",
        "  augmented_file_path = tempo_dir / f\"{file_name}_tempo_{tempo_shift}.mid\"\n",
        "  pm.write(str(augmented_file_path))\n",
        "  wav_file_path = str(augment_dir / f\"{file_name}_tempo_{tempo_shift}.wav\")\n",
        "  FluidSynth().midi_to_audio(augmented_file_path, wav_file_path)\n",
        "  clip_length(wav_file_path)\n",
        "\n",
        "  return augmented_file_path, wav_file_path, tempo_shift"
      ],
      "metadata": {
        "id": "yA8Zd8i--ioA"
      },
      "execution_count": null,
      "outputs": []
    },
    {
      "cell_type": "code",
      "source": [
        "file_5 = aligned_midi_files[5]\n",
        "file_name = 'file_5'\n",
        "original_wav_path = save_as_wav(file_5, file_name)\n",
        "pm = pretty_midi.PrettyMIDI(file_5)\n",
        "play_midi(pm)"
      ],
      "metadata": {
        "id": "bX_deRTuAe5J"
      },
      "execution_count": null,
      "outputs": []
    },
    {
      "cell_type": "code",
      "source": [
        "pitch_midi_path, pitch_wav_path, pitch_shift = augment_pitch(copy.deepcopy(pm), pitch_dir, file_name)\n",
        "pm_pitch = pretty_midi.PrettyMIDI(str(pitch_midi_path))\n",
        "play_midi(pm_pitch)"
      ],
      "metadata": {
        "id": "h45aEu9ZR5Nv"
      },
      "execution_count": null,
      "outputs": []
    },
    {
      "cell_type": "code",
      "source": [
        "vol_midi_path, vol_wav_path, vol_shift = augment_vol(copy.deepcopy(pm), vol_dir, file_name)\n",
        "pm_vol = pretty_midi.PrettyMIDI(str(vol_midi_path))\n",
        "play_midi(pm_vol)"
      ],
      "metadata": {
        "id": "cRQBbeJDSFQK"
      },
      "execution_count": null,
      "outputs": []
    },
    {
      "cell_type": "code",
      "source": [
        "tempo_midi_path, tempo_wav_path, tempo_shift = augment_tempo(copy.deepcopy(pm), tempo_dir, file_name, tempo_augment_choices=[1.75])\n",
        "pm_tempo = pretty_midi.PrettyMIDI(str(tempo_midi_path))\n",
        "play_midi(pm_tempo)"
      ],
      "metadata": {
        "id": "RJy5aOZzBrCj"
      },
      "execution_count": null,
      "outputs": []
    },
    {
      "cell_type": "code",
      "source": [
        "!pip install torch==2.1.0 torchvision==0.16.0 torchaudio==2.1.0 --index-url https://download.pytorch.org/whl/cu121\n",
        "!pip install audiocraft"
      ],
      "metadata": {
        "id": "HSLL7Ui3HBHI"
      },
      "execution_count": null,
      "outputs": []
    },
    {
      "cell_type": "code",
      "source": [
        "import torch\n",
        "import torchaudio\n",
        "from audiocraft.models import MusicGen\n",
        "from audiocraft.data.audio import audio_write\n",
        "from audiocraft.utils.notebook import display_audio\n",
        "\n",
        "device = torch.device('cuda' if torch.cuda.is_available() else 'cpu')\n",
        "model = MusicGen.get_pretrained('facebook/musicgen-melody', device=device)\n",
        "model.set_generation_params(duration=10)  # generate 10 seconds."
      ],
      "metadata": {
        "id": "kO8zfbILHFJk"
      },
      "execution_count": null,
      "outputs": []
    },
    {
      "cell_type": "code",
      "source": [
        "generated_dir = pathlib.Path('generated')\n",
        "generated_dir.mkdir(parents=True, exist_ok=True)"
      ],
      "metadata": {
        "id": "alFEojZ4MT0C"
      },
      "execution_count": null,
      "outputs": []
    },
    {
      "cell_type": "code",
      "source": [
        "melody, sample_rate = torchaudio.load(original_wav_path)\n",
        "prompt_duration = 8\n",
        "melody = melody[..., :int(prompt_duration * sample_rate)]\n",
        "output = model.generate_continuation(melody, prompt_sample_rate=sample_rate, progress=True)\n",
        "display_audio(output, sample_rate=sample_rate)"
      ],
      "metadata": {
        "id": "quCyr3VWHp1O"
      },
      "execution_count": null,
      "outputs": []
    },
    {
      "cell_type": "code",
      "source": [
        "melody, sample_rate = torchaudio.load(tempo_wav_path)\n",
        "prompt_duration = 8\n",
        "melody = melody[..., :int(prompt_duration * sample_rate)]\n",
        "output = model.generate_continuation(melody, prompt_sample_rate=sample_rate, progress=True)\n",
        "display_audio(output, sample_rate=sample_rate)"
      ],
      "metadata": {
        "id": "v_HLOQAZHIvR"
      },
      "execution_count": null,
      "outputs": []
    },
    {
      "cell_type": "code",
      "source": [
        "def apply_augmentation_and_generate_output(i, model):\n",
        "  midi_file = aligned_midi_files[i]\n",
        "  file_name = f'file_{i}'\n",
        "  original_wav_path = save_as_wav(midi_file, file_name)\n",
        "  pm = pretty_midi.PrettyMIDI(midi_file)\n",
        "\n",
        "  pitch_midi_path, pitch_wav_path, pitch_shift = augment_pitch(copy.deepcopy(pm), pitch_dir, file_name)\n",
        "  vol_midi_path, vol_wav_path, vol_shift = augment_vol(copy.deepcopy(pm), vol_dir, file_name)\n",
        "  tempo_midi_path, tempo_wav_path, tempo_shift = augment_tempo(copy.deepcopy(pm), tempo_dir, file_name)\n",
        "\n",
        "  file_paths = {\n",
        "      'original': original_wav_path,\n",
        "      f'pitch_{pitch_shift}': pitch_wav_path,\n",
        "      f'vol_{vol_shift}': vol_wav_path,\n",
        "      f'tempo_{tempo_shift}': tempo_wav_path\n",
        "  }\n",
        "\n",
        "  for augmentation in file_paths:\n",
        "    melody, sample_rate = torchaudio.load(file_paths[augmentation])\n",
        "    prompt_duration = 8\n",
        "    melody = melody[..., :int(prompt_duration * sample_rate)]\n",
        "    output = model.generate_continuation(melody, prompt_sample_rate=sample_rate, progress=True)\n",
        "\n",
        "    for idx, one_wav in enumerate(output):\n",
        "      audio_write(f'generated/{file_name}_{augmentation}_output', one_wav.cpu(), model.sample_rate, strategy='loudness')\n"
      ],
      "metadata": {
        "id": "dGtdyVwFOA99"
      },
      "execution_count": null,
      "outputs": []
    },
    {
      "cell_type": "code",
      "source": [
        "for i in range(50):\n",
        "  if i % 5 == 0:\n",
        "    print(f'Augmenting and Generating file {i}.')\n",
        "  apply_augmentation_and_generate_output(i, model)"
      ],
      "metadata": {
        "id": "WZXqvwIxRyfe"
      },
      "execution_count": null,
      "outputs": []
    },
    {
      "cell_type": "code",
      "source": [
        "# save folders to zip so we can download\n",
        "import locale\n",
        "locale.getpreferredencoding = lambda: \"UTF-8\"\n",
        "\n",
        "!zip -r /content/augmented.zip /content/augmented\n",
        "!zip -r /content/generated.zip /content/generated"
      ],
      "metadata": {
        "id": "X1GfIxFPOWX4"
      },
      "execution_count": null,
      "outputs": []
    }
  ]
}